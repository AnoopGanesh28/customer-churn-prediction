{
 "cells": [
  {
   "cell_type": "code",
   "execution_count": 1,
   "id": "c7665d63-36fc-4250-89a8-a42162bb003a",
   "metadata": {},
   "outputs": [],
   "source": [
    "# Import essential libraries\n",
    "import pandas as pd\n",
    "import numpy as np\n",
    "from sklearn.preprocessing import LabelEncoder"
   ]
  },
  {
   "cell_type": "code",
   "execution_count": 2,
   "id": "9f5db952-f8a5-4166-b16b-b37b7616bab2",
   "metadata": {},
   "outputs": [],
   "source": [
    "# Load Dataset\n",
    "df=pd.read_csv(\"../data/Telco-Customer-Churn.csv\")"
   ]
  },
  {
   "cell_type": "code",
   "execution_count": 3,
   "id": "fb8dfa66-6b7e-4b4c-9fa7-66df5b0d204d",
   "metadata": {},
   "outputs": [],
   "source": [
    "# Drop customerID\n",
    "df = df.drop('customerID', axis=1)"
   ]
  },
  {
   "cell_type": "code",
   "execution_count": 5,
   "id": "a89b1097-8472-4802-995f-86c7214e3ec4",
   "metadata": {},
   "outputs": [],
   "source": [
    "# Handles TotalCharges col\n",
    "df['TotalCharges'] = pd.to_numeric(df['TotalCharges'], errors='coerce')\n",
    "df['TotalCharges'] = df['TotalCharges'].fillna(df['TotalCharges'].median())  "
   ]
  },
  {
   "cell_type": "code",
   "execution_count": 6,
   "id": "7f18344f-62b6-402b-bf35-2bfd1ee215c9",
   "metadata": {},
   "outputs": [],
   "source": [
    "# Encode binary categorical features with LabelEncoder\n",
    "binary_cols = ['gender','Partner','Dependents','PhoneService','PaperlessBilling','Churn']\n",
    "le = LabelEncoder()\n",
    "for col in binary_cols:\n",
    "    df[col] = le.fit_transform(df[col])"
   ]
  },
  {
   "cell_type": "code",
   "execution_count": 7,
   "id": "7d123488-e5b7-4b6f-bc78-6c247d7eeae6",
   "metadata": {},
   "outputs": [],
   "source": [
    "# One-hot encode multi-class categorical features\n",
    "multi_class_cols = ['MultipleLines','InternetService','OnlineSecurity','OnlineBackup',\n",
    "                    'DeviceProtection','TechSupport','StreamingTV','StreamingMovies',\n",
    "                    'Contract','PaymentMethod']"
   ]
  },
  {
   "cell_type": "code",
   "execution_count": 8,
   "id": "f3e81242-6646-4b93-8289-6ea4f6b40e14",
   "metadata": {},
   "outputs": [],
   "source": [
    "df = pd.get_dummies(df, columns=multi_class_cols, drop_first=True)"
   ]
  },
  {
   "cell_type": "code",
   "execution_count": 9,
   "id": "80e83d6c-d627-40f3-bcf8-4793fc3cdbab",
   "metadata": {},
   "outputs": [],
   "source": [
    "# Save cleaned dataset\n",
    "df.to_csv(\"../data/cleaned_data.csv\", index=False)"
   ]
  }
 ],
 "metadata": {
  "kernelspec": {
   "display_name": "Python (venv)",
   "language": "python",
   "name": "venv"
  },
  "language_info": {
   "codemirror_mode": {
    "name": "ipython",
    "version": 3
   },
   "file_extension": ".py",
   "mimetype": "text/x-python",
   "name": "python",
   "nbconvert_exporter": "python",
   "pygments_lexer": "ipython3",
   "version": "3.13.5"
  }
 },
 "nbformat": 4,
 "nbformat_minor": 5
}
