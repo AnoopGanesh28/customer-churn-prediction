{
 "cells": [
  {
   "cell_type": "code",
   "execution_count": null,
   "id": "c06d7c5f-3441-404f-883f-8588830e4107",
   "metadata": {},
   "outputs": [],
   "source": [
    "# Import libraries\n",
    "import pandas as pd\n",
    "import matplotlib.pyplot as plt\n",
    "import seaborn as sns\n",
    "import joblib"
   ]
  },
  {
   "cell_type": "code",
   "execution_count": 2,
   "id": "06c3e4d4-ddbd-4619-85ba-41199ea3df81",
   "metadata": {},
   "outputs": [],
   "source": [
    "from sklearn.model_selection import train_test_split\n",
    "from sklearn.metrics import (\n",
    "    accuracy_score,\n",
    "    roc_auc_score,\n",
    "    classification_report,\n",
    "    confusion_matrix\n",
    ")"
   ]
  },
  {
   "cell_type": "code",
   "execution_count": 3,
   "id": "8e4cc823-2c7d-4e03-829a-f2d4bf0fa1df",
   "metadata": {},
   "outputs": [],
   "source": [
    "# Load dataset and split\n",
    "df = pd.read_csv(\"../data/cleaned_data.csv\")\n",
    "\n",
    "X = df.drop(\"Churn\", axis=1)\n",
    "y = df[\"Churn\"]\n",
    "\n",
    "X_train, X_test, y_train, y_test = train_test_split(\n",
    "    X, y, test_size=0.2, random_state=42\n",
    ")"
   ]
  },
  {
   "cell_type": "code",
   "execution_count": 4,
   "id": "1e6517e0-100c-4454-9443-e2d8db52b4fe",
   "metadata": {},
   "outputs": [],
   "source": [
    "# Load trained model\n",
    "model = joblib.load(\"../results/model.pkl\")"
   ]
  },
  {
   "cell_type": "code",
   "execution_count": 5,
   "id": "41b84fd9-9831-4a4f-84c2-9cc0d48227e4",
   "metadata": {
    "scrolled": true
   },
   "outputs": [
    {
     "name": "stdout",
     "output_type": "stream",
     "text": [
      "🔹 Accuracy: 0.9119943222143364\n",
      "🔹 ROC AUC: 0.8732415870485575\n",
      "\n",
      "🔹 Classification Report:\n",
      "               precision    recall  f1-score   support\n",
      "\n",
      "           0       0.93      0.96      0.94      1036\n",
      "           1       0.87      0.79      0.83       373\n",
      "\n",
      "    accuracy                           0.91      1409\n",
      "   macro avg       0.90      0.87      0.88      1409\n",
      "weighted avg       0.91      0.91      0.91      1409\n",
      "\n"
     ]
    }
   ],
   "source": [
    "# Predictions & Metrics\n",
    "y_pred = model.predict(X_test)\n",
    "print(\"🔹 Accuracy:\", accuracy_score(y_test, y_pred))\n",
    "print(\"🔹 ROC AUC:\", roc_auc_score(y_test, y_pred))\n",
    "print(\"\\n🔹 Classification Report:\\n\", classification_report(y_test, y_pred))"
   ]
  },
  {
   "cell_type": "code",
   "execution_count": 6,
   "id": "85040650-ad6f-4b4f-b394-18d2ebcaaff6",
   "metadata": {},
   "outputs": [
    {
     "data": {
      "text/plain": [
       "<Axes: >"
      ]
     },
     "execution_count": 6,
     "metadata": {},
     "output_type": "execute_result"
    },
    {
     "data": {
      "image/png": "[encoded data removed]",
      "text/plain": [
       "<Figure size 640x480 with 2 Axes>"
      ]
     },
     "metadata": {},
     "output_type": "display_data"
    }
   ],
   "source": [
    "# Confusion Matrix Heatmap\n",
    "cm = confusion_matrix(y_test, y_pred)\n",
    "sns.heatmap(\n",
    "    cm, annot=True, fmt=\"d\", cmap=\"Blues\",\n",
    "    xticklabels=[\"No Churn\", \"Churn\"],\n",
    "    yticklabels=[\"No Churn\", \"Churn\"]\n",
    ")"
   ]
  }
 ],
 "metadata": {
  "kernelspec": {
   "display_name": "Python (venv)",
   "language": "python",
   "name": "venv"
  },
  "language_info": {
   "codemirror_mode": {
    "name": "ipython",
    "version": 3
   },
   "file_extension": ".py",
   "mimetype": "text/x-python",
   "name": "python",
   "nbconvert_exporter": "python",
   "pygments_lexer": "ipython3",
   "version": "3.13.5"
  }
 },
 "nbformat": 4,
 "nbformat_minor": 5
}
